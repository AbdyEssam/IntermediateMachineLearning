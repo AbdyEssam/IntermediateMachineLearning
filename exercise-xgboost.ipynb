{
 "cells": [
  {
   "cell_type": "markdown",
   "id": "e77cce61",
   "metadata": {
    "papermill": {
     "duration": 0.005198,
     "end_time": "2022-06-30T14:19:17.730762",
     "exception": false,
     "start_time": "2022-06-30T14:19:17.725564",
     "status": "completed"
    },
    "tags": []
   },
   "source": [
    "**This notebook is an exercise in the [Intermediate Machine Learning](https://www.kaggle.com/learn/intermediate-machine-learning) course.  You can reference the tutorial at [this link](https://www.kaggle.com/alexisbcook/xgboost).**\n",
    "\n",
    "---\n"
   ]
  },
  {
   "cell_type": "markdown",
   "id": "d45a7343",
   "metadata": {
    "papermill": {
     "duration": 0.004162,
     "end_time": "2022-06-30T14:19:17.739569",
     "exception": false,
     "start_time": "2022-06-30T14:19:17.735407",
     "status": "completed"
    },
    "tags": []
   },
   "source": [
    "In this exercise, you will use your new knowledge to train a model with **gradient boosting**.\n",
    "\n",
    "# Setup\n",
    "\n",
    "The questions below will give you feedback on your work. Run the following cell to set up the feedback system."
   ]
  },
  {
   "cell_type": "code",
   "execution_count": 1,
   "id": "9e3c088d",
   "metadata": {
    "execution": {
     "iopub.execute_input": "2022-06-30T14:19:17.750500Z",
     "iopub.status.busy": "2022-06-30T14:19:17.749792Z",
     "iopub.status.idle": "2022-06-30T14:19:19.715897Z",
     "shell.execute_reply": "2022-06-30T14:19:19.715139Z"
    },
    "papermill": {
     "duration": 1.973971,
     "end_time": "2022-06-30T14:19:19.717950",
     "exception": false,
     "start_time": "2022-06-30T14:19:17.743979",
     "status": "completed"
    },
    "tags": []
   },
   "outputs": [
    {
     "name": "stdout",
     "output_type": "stream",
     "text": [
      "Setup Complete\n"
     ]
    }
   ],
   "source": [
    "# Set up code checking\n",
    "import os\n",
    "if not os.path.exists(\"../input/train.csv\"):\n",
    "    os.symlink(\"../input/home-data-for-ml-course/train.csv\", \"../input/train.csv\")  \n",
    "    os.symlink(\"../input/home-data-for-ml-course/test.csv\", \"../input/test.csv\") \n",
    "from learntools.core import binder\n",
    "binder.bind(globals())\n",
    "from learntools.ml_intermediate.ex6 import *\n",
    "print(\"Setup Complete\")"
   ]
  },
  {
   "cell_type": "markdown",
   "id": "62450ff0",
   "metadata": {
    "papermill": {
     "duration": 0.004168,
     "end_time": "2022-06-30T14:19:19.726858",
     "exception": false,
     "start_time": "2022-06-30T14:19:19.722690",
     "status": "completed"
    },
    "tags": []
   },
   "source": [
    "You will work with the [Housing Prices Competition for Kaggle Learn Users](https://www.kaggle.com/c/home-data-for-ml-course) dataset from the previous exercise. \n",
    "\n",
    "![Ames Housing dataset image](https://i.imgur.com/lTJVG4e.png)\n",
    "\n",
    "Run the next code cell without changes to load the training and validation sets in `X_train`, `X_valid`, `y_train`, and `y_valid`.  The test set is loaded in `X_test`."
   ]
  },
  {
   "cell_type": "code",
   "execution_count": 2,
   "id": "a75256df",
   "metadata": {
    "execution": {
     "iopub.execute_input": "2022-06-30T14:19:19.736749Z",
     "iopub.status.busy": "2022-06-30T14:19:19.736456Z",
     "iopub.status.idle": "2022-06-30T14:19:19.880011Z",
     "shell.execute_reply": "2022-06-30T14:19:19.879134Z"
    },
    "papermill": {
     "duration": 0.15099,
     "end_time": "2022-06-30T14:19:19.882155",
     "exception": false,
     "start_time": "2022-06-30T14:19:19.731165",
     "status": "completed"
    },
    "tags": []
   },
   "outputs": [],
   "source": [
    "import pandas as pd\n",
    "from sklearn.model_selection import train_test_split\n",
    "\n",
    "# Read the data\n",
    "X = pd.read_csv('../input/train.csv', index_col='Id')\n",
    "X_test_full = pd.read_csv('../input/test.csv', index_col='Id')\n",
    "\n",
    "# Remove rows with missing target, separate target from predictors\n",
    "X.dropna(axis=0, subset=['SalePrice'], inplace=True)\n",
    "y = X.SalePrice              \n",
    "X.drop(['SalePrice'], axis=1, inplace=True)\n",
    "\n",
    "# Break off validation set from training data\n",
    "X_train_full, X_valid_full, y_train, y_valid = train_test_split(X, y, train_size=0.8, test_size=0.2,\n",
    "                                                                random_state=0)\n",
    "\n",
    "# \"Cardinality\" means the number of unique values in a column\n",
    "# Select categorical columns with relatively low cardinality (convenient but arbitrary)\n",
    "low_cardinality_cols = [cname for cname in X_train_full.columns if X_train_full[cname].nunique() < 10 and \n",
    "                        X_train_full[cname].dtype == \"object\"]\n",
    "\n",
    "# Select numeric columns\n",
    "numeric_cols = [cname for cname in X_train_full.columns if X_train_full[cname].dtype in ['int64', 'float64']]\n",
    "\n",
    "# Keep selected columns only\n",
    "my_cols = low_cardinality_cols + numeric_cols\n",
    "X_train = X_train_full[my_cols].copy()\n",
    "X_valid = X_valid_full[my_cols].copy()\n",
    "X_test = X_test_full[my_cols].copy()\n",
    "\n",
    "# One-hot encode the data (to shorten the code, we use pandas)\n",
    "X_train = pd.get_dummies(X_train)\n",
    "X_valid = pd.get_dummies(X_valid)\n",
    "X_test = pd.get_dummies(X_test)\n",
    "X_train, X_valid = X_train.align(X_valid, join='left', axis=1)\n",
    "X_train, X_test = X_train.align(X_test, join='left', axis=1)"
   ]
  },
  {
   "cell_type": "markdown",
   "id": "e29ca226",
   "metadata": {
    "papermill": {
     "duration": 0.004272,
     "end_time": "2022-06-30T14:19:19.891108",
     "exception": false,
     "start_time": "2022-06-30T14:19:19.886836",
     "status": "completed"
    },
    "tags": []
   },
   "source": [
    "# Step 1: Build model\n",
    "\n",
    "### Part A\n",
    "\n",
    "In this step, you'll build and train your first model with gradient boosting.\n",
    "\n",
    "- Begin by setting `my_model_1` to an XGBoost model.  Use the [XGBRegressor](https://xgboost.readthedocs.io/en/latest/python/python_api.html#xgboost.XGBRegressor) class, and set the random seed to 0 (`random_state=0`).  **Leave all other parameters as default.**\n",
    "- Then, fit the model to the training data in `X_train` and `y_train`."
   ]
  },
  {
   "cell_type": "code",
   "execution_count": 3,
   "id": "8fe8eb2d",
   "metadata": {
    "execution": {
     "iopub.execute_input": "2022-06-30T14:19:19.901458Z",
     "iopub.status.busy": "2022-06-30T14:19:19.900966Z",
     "iopub.status.idle": "2022-06-30T14:19:20.729114Z",
     "shell.execute_reply": "2022-06-30T14:19:20.728202Z"
    },
    "papermill": {
     "duration": 0.835876,
     "end_time": "2022-06-30T14:19:20.731346",
     "exception": false,
     "start_time": "2022-06-30T14:19:19.895470",
     "status": "completed"
    },
    "tags": []
   },
   "outputs": [
    {
     "data": {
      "application/javascript": [
       "parent.postMessage({\"jupyterEvent\": \"custom.exercise_interaction\", \"data\": {\"outcomeType\": 1, \"valueTowardsCompletion\": 0.5, \"interactionType\": 1, \"questionType\": 2, \"questionId\": \"1.1_Model1A\", \"learnToolsVersion\": \"0.3.4\", \"failureMessage\": \"\", \"exceptionClass\": \"\", \"trace\": \"\"}}, \"*\")"
      ],
      "text/plain": [
       "<IPython.core.display.Javascript object>"
      ]
     },
     "metadata": {},
     "output_type": "display_data"
    },
    {
     "data": {
      "text/markdown": [
       "<span style=\"color:#33cc33\">Correct</span>"
      ],
      "text/plain": [
       "Correct"
      ]
     },
     "metadata": {},
     "output_type": "display_data"
    }
   ],
   "source": [
    "from xgboost import XGBRegressor\n",
    "\n",
    "# Define the model\n",
    "my_model_1 = XGBRegressor(random_state=0) # Your code here\n",
    "\n",
    "# Fit the model\n",
    "my_model_1.fit(X_train, y_train) # Your code here\n",
    "\n",
    "# Check your answer\n",
    "step_1.a.check()"
   ]
  },
  {
   "cell_type": "code",
   "execution_count": 4,
   "id": "bac7b67b",
   "metadata": {
    "execution": {
     "iopub.execute_input": "2022-06-30T14:19:20.747153Z",
     "iopub.status.busy": "2022-06-30T14:19:20.746906Z",
     "iopub.status.idle": "2022-06-30T14:19:20.750359Z",
     "shell.execute_reply": "2022-06-30T14:19:20.749569Z"
    },
    "papermill": {
     "duration": 0.013873,
     "end_time": "2022-06-30T14:19:20.752690",
     "exception": false,
     "start_time": "2022-06-30T14:19:20.738817",
     "status": "completed"
    },
    "tags": []
   },
   "outputs": [],
   "source": [
    "# Lines below will give you a hint or solution code\n",
    "#step_1.a.hint()\n",
    "#step_1.a.solution()"
   ]
  },
  {
   "cell_type": "markdown",
   "id": "1e2c2051",
   "metadata": {
    "papermill": {
     "duration": 0.006963,
     "end_time": "2022-06-30T14:19:20.766772",
     "exception": false,
     "start_time": "2022-06-30T14:19:20.759809",
     "status": "completed"
    },
    "tags": []
   },
   "source": [
    "### Part B\n",
    "\n",
    "Set `predictions_1` to the model's predictions for the validation data.  Recall that the validation features are stored in `X_valid`."
   ]
  },
  {
   "cell_type": "code",
   "execution_count": 5,
   "id": "d3f2bddb",
   "metadata": {
    "execution": {
     "iopub.execute_input": "2022-06-30T14:19:20.782410Z",
     "iopub.status.busy": "2022-06-30T14:19:20.782047Z",
     "iopub.status.idle": "2022-06-30T14:19:20.804716Z",
     "shell.execute_reply": "2022-06-30T14:19:20.803837Z"
    },
    "papermill": {
     "duration": 0.032957,
     "end_time": "2022-06-30T14:19:20.806876",
     "exception": false,
     "start_time": "2022-06-30T14:19:20.773919",
     "status": "completed"
    },
    "tags": []
   },
   "outputs": [
    {
     "data": {
      "application/javascript": [
       "parent.postMessage({\"jupyterEvent\": \"custom.exercise_interaction\", \"data\": {\"outcomeType\": 1, \"valueTowardsCompletion\": 0.5, \"interactionType\": 1, \"questionType\": 2, \"questionId\": \"1.2_Model1B\", \"learnToolsVersion\": \"0.3.4\", \"failureMessage\": \"\", \"exceptionClass\": \"\", \"trace\": \"\"}}, \"*\")"
      ],
      "text/plain": [
       "<IPython.core.display.Javascript object>"
      ]
     },
     "metadata": {},
     "output_type": "display_data"
    },
    {
     "data": {
      "text/markdown": [
       "<span style=\"color:#33cc33\">Correct</span>"
      ],
      "text/plain": [
       "Correct"
      ]
     },
     "metadata": {},
     "output_type": "display_data"
    }
   ],
   "source": [
    "from sklearn.metrics import mean_absolute_error\n",
    "\n",
    "# Get predictions\n",
    "predictions_1 = my_model_1.predict(X_valid) # Your code here\n",
    "\n",
    "# Check your answer\n",
    "step_1.b.check()"
   ]
  },
  {
   "cell_type": "code",
   "execution_count": 6,
   "id": "0bbf89d4",
   "metadata": {
    "execution": {
     "iopub.execute_input": "2022-06-30T14:19:20.818144Z",
     "iopub.status.busy": "2022-06-30T14:19:20.817384Z",
     "iopub.status.idle": "2022-06-30T14:19:20.820569Z",
     "shell.execute_reply": "2022-06-30T14:19:20.820045Z"
    },
    "papermill": {
     "duration": 0.010915,
     "end_time": "2022-06-30T14:19:20.822785",
     "exception": false,
     "start_time": "2022-06-30T14:19:20.811870",
     "status": "completed"
    },
    "tags": []
   },
   "outputs": [],
   "source": [
    "# Lines below will give you a hint or solution code\n",
    "#step_1.b.hint()\n",
    "#step_1.b.solution()"
   ]
  },
  {
   "cell_type": "markdown",
   "id": "28ed2a9d",
   "metadata": {
    "papermill": {
     "duration": 0.00719,
     "end_time": "2022-06-30T14:19:20.837457",
     "exception": false,
     "start_time": "2022-06-30T14:19:20.830267",
     "status": "completed"
    },
    "tags": []
   },
   "source": [
    "### Part C\n",
    "\n",
    "Finally, use the `mean_absolute_error()` function to calculate the mean absolute error (MAE) corresponding to the predictions for the validation set.  Recall that the labels for the validation data are stored in `y_valid`."
   ]
  },
  {
   "cell_type": "code",
   "execution_count": 7,
   "id": "4dc380b2",
   "metadata": {
    "execution": {
     "iopub.execute_input": "2022-06-30T14:19:20.853636Z",
     "iopub.status.busy": "2022-06-30T14:19:20.853173Z",
     "iopub.status.idle": "2022-06-30T14:19:20.861515Z",
     "shell.execute_reply": "2022-06-30T14:19:20.860575Z"
    },
    "papermill": {
     "duration": 0.020099,
     "end_time": "2022-06-30T14:19:20.865079",
     "exception": false,
     "start_time": "2022-06-30T14:19:20.844980",
     "status": "completed"
    },
    "tags": []
   },
   "outputs": [
    {
     "name": "stdout",
     "output_type": "stream",
     "text": [
      "Mean Absolute Error: 17662.736729452055\n"
     ]
    },
    {
     "data": {
      "application/javascript": [
       "parent.postMessage({\"jupyterEvent\": \"custom.exercise_interaction\", \"data\": {\"outcomeType\": 1, \"valueTowardsCompletion\": 0.5, \"interactionType\": 1, \"questionType\": 2, \"questionId\": \"1.3_Model1C\", \"learnToolsVersion\": \"0.3.4\", \"failureMessage\": \"\", \"exceptionClass\": \"\", \"trace\": \"\"}}, \"*\")"
      ],
      "text/plain": [
       "<IPython.core.display.Javascript object>"
      ]
     },
     "metadata": {},
     "output_type": "display_data"
    },
    {
     "data": {
      "text/markdown": [
       "<span style=\"color:#33cc33\">Correct</span>"
      ],
      "text/plain": [
       "Correct"
      ]
     },
     "metadata": {},
     "output_type": "display_data"
    }
   ],
   "source": [
    "# Calculate MAE\n",
    "mae_1 = mean_absolute_error(predictions_1, y_valid) # Your code here\n",
    "\n",
    "# Uncomment to print MAE\n",
    "print(\"Mean Absolute Error:\" , mae_1)\n",
    "\n",
    "# Check your answer\n",
    "step_1.c.check()"
   ]
  },
  {
   "cell_type": "code",
   "execution_count": 8,
   "id": "80fafdd5",
   "metadata": {
    "execution": {
     "iopub.execute_input": "2022-06-30T14:19:20.882745Z",
     "iopub.status.busy": "2022-06-30T14:19:20.882403Z",
     "iopub.status.idle": "2022-06-30T14:19:20.886249Z",
     "shell.execute_reply": "2022-06-30T14:19:20.885470Z"
    },
    "papermill": {
     "duration": 0.014438,
     "end_time": "2022-06-30T14:19:20.887805",
     "exception": false,
     "start_time": "2022-06-30T14:19:20.873367",
     "status": "completed"
    },
    "tags": []
   },
   "outputs": [],
   "source": [
    "# Lines below will give you a hint or solution code\n",
    "#step_1.c.hint()\n",
    "#step_1.c.solution()"
   ]
  },
  {
   "cell_type": "markdown",
   "id": "16267be9",
   "metadata": {
    "papermill": {
     "duration": 0.004844,
     "end_time": "2022-06-30T14:19:20.897758",
     "exception": false,
     "start_time": "2022-06-30T14:19:20.892914",
     "status": "completed"
    },
    "tags": []
   },
   "source": [
    "# Step 2: Improve the model\n",
    "\n",
    "Now that you've trained a default model as baseline, it's time to tinker with the parameters, to see if you can get better performance!\n",
    "- Begin by setting `my_model_2` to an XGBoost model, using the [XGBRegressor](https://xgboost.readthedocs.io/en/latest/python/python_api.html#xgboost.XGBRegressor) class.  Use what you learned in the previous tutorial to figure out how to change the default parameters (like `n_estimators` and `learning_rate`) to get better results.\n",
    "- Then, fit the model to the training data in `X_train` and `y_train`.\n",
    "- Set `predictions_2` to the model's predictions for the validation data.  Recall that the validation features are stored in `X_valid`.\n",
    "- Finally, use the `mean_absolute_error()` function to calculate the mean absolute error (MAE) corresponding to the predictions on the validation set.  Recall that the labels for the validation data are stored in `y_valid`.\n",
    "\n",
    "In order for this step to be marked correct, your model in `my_model_2` must attain lower MAE than the model in `my_model_1`. "
   ]
  },
  {
   "cell_type": "code",
   "execution_count": 9,
   "id": "759fdf10",
   "metadata": {
    "execution": {
     "iopub.execute_input": "2022-06-30T14:19:20.909089Z",
     "iopub.status.busy": "2022-06-30T14:19:20.908573Z",
     "iopub.status.idle": "2022-06-30T14:19:28.468522Z",
     "shell.execute_reply": "2022-06-30T14:19:28.467549Z"
    },
    "papermill": {
     "duration": 7.56817,
     "end_time": "2022-06-30T14:19:28.470860",
     "exception": false,
     "start_time": "2022-06-30T14:19:20.902690",
     "status": "completed"
    },
    "tags": []
   },
   "outputs": [
    {
     "name": "stdout",
     "output_type": "stream",
     "text": [
      "Mean Absolute Error: 16688.691513270547\n"
     ]
    },
    {
     "data": {
      "application/javascript": [
       "parent.postMessage({\"jupyterEvent\": \"custom.exercise_interaction\", \"data\": {\"outcomeType\": 1, \"valueTowardsCompletion\": 0.5, \"interactionType\": 1, \"questionType\": 2, \"questionId\": \"2_Model2\", \"learnToolsVersion\": \"0.3.4\", \"failureMessage\": \"\", \"exceptionClass\": \"\", \"trace\": \"\"}}, \"*\")"
      ],
      "text/plain": [
       "<IPython.core.display.Javascript object>"
      ]
     },
     "metadata": {},
     "output_type": "display_data"
    },
    {
     "data": {
      "text/markdown": [
       "<span style=\"color:#33cc33\">Correct</span>"
      ],
      "text/plain": [
       "Correct"
      ]
     },
     "metadata": {},
     "output_type": "display_data"
    }
   ],
   "source": [
    "# Define the model\n",
    "my_model_2 = XGBRegressor(n_estimators=1000, learning_rate=0.05) # Your code here\n",
    "\n",
    "# Fit the model\n",
    "my_model_2.fit(X_train, y_train) # Your code here\n",
    "\n",
    "# Get predictions\n",
    "predictions_2 = my_model_2.predict(X_valid) # Your code here\n",
    "\n",
    "# Calculate MAE\n",
    "mae_2 = mean_absolute_error(predictions_2, y_valid) # Your code here\n",
    "\n",
    "# Uncomment to print MAE\n",
    "print(\"Mean Absolute Error:\" , mae_2)\n",
    "\n",
    "# Check your answer\n",
    "step_2.check()"
   ]
  },
  {
   "cell_type": "code",
   "execution_count": 10,
   "id": "a4f816ae",
   "metadata": {
    "execution": {
     "iopub.execute_input": "2022-06-30T14:19:28.489791Z",
     "iopub.status.busy": "2022-06-30T14:19:28.489492Z",
     "iopub.status.idle": "2022-06-30T14:19:28.492410Z",
     "shell.execute_reply": "2022-06-30T14:19:28.491834Z"
    },
    "papermill": {
     "duration": 0.014575,
     "end_time": "2022-06-30T14:19:28.493999",
     "exception": false,
     "start_time": "2022-06-30T14:19:28.479424",
     "status": "completed"
    },
    "tags": []
   },
   "outputs": [],
   "source": [
    "# Lines below will give you a hint or solution code\n",
    "#step_2.hint()\n",
    "#step_2.solution()"
   ]
  },
  {
   "cell_type": "markdown",
   "id": "f07ce034",
   "metadata": {
    "papermill": {
     "duration": 0.005043,
     "end_time": "2022-06-30T14:19:28.504258",
     "exception": false,
     "start_time": "2022-06-30T14:19:28.499215",
     "status": "completed"
    },
    "tags": []
   },
   "source": [
    "# Step 3: Break the model\n",
    "\n",
    "In this step, you will create a model that performs worse than the original model in Step 1.  This will help you to develop your intuition for how to set parameters.  You might even find that you accidentally get better performance, which is ultimately a nice problem to have and a valuable learning experience!\n",
    "- Begin by setting `my_model_3` to an XGBoost model, using the [XGBRegressor](https://xgboost.readthedocs.io/en/latest/python/python_api.html#xgboost.XGBRegressor) class.  Use what you learned in the previous tutorial to figure out how to change the default parameters (like `n_estimators` and `learning_rate`) to design a model to get high MAE.\n",
    "- Then, fit the model to the training data in `X_train` and `y_train`.\n",
    "- Set `predictions_3` to the model's predictions for the validation data.  Recall that the validation features are stored in `X_valid`.\n",
    "- Finally, use the `mean_absolute_error()` function to calculate the mean absolute error (MAE) corresponding to the predictions on the validation set.  Recall that the labels for the validation data are stored in `y_valid`.\n",
    "\n",
    "In order for this step to be marked correct, your model in `my_model_3` must attain higher MAE than the model in `my_model_1`. "
   ]
  },
  {
   "cell_type": "code",
   "execution_count": 11,
   "id": "1a9032cb",
   "metadata": {
    "execution": {
     "iopub.execute_input": "2022-06-30T14:19:28.515916Z",
     "iopub.status.busy": "2022-06-30T14:19:28.515438Z",
     "iopub.status.idle": "2022-06-30T14:19:28.574218Z",
     "shell.execute_reply": "2022-06-30T14:19:28.573461Z"
    },
    "papermill": {
     "duration": 0.066542,
     "end_time": "2022-06-30T14:19:28.575973",
     "exception": false,
     "start_time": "2022-06-30T14:19:28.509431",
     "status": "completed"
    },
    "tags": []
   },
   "outputs": [
    {
     "name": "stdout",
     "output_type": "stream",
     "text": [
      "Mean Absolute Error: 127895.0828807256\n"
     ]
    },
    {
     "data": {
      "application/javascript": [
       "parent.postMessage({\"jupyterEvent\": \"custom.exercise_interaction\", \"data\": {\"outcomeType\": 1, \"valueTowardsCompletion\": 0.5, \"interactionType\": 1, \"questionType\": 2, \"questionId\": \"3_Model3\", \"learnToolsVersion\": \"0.3.4\", \"failureMessage\": \"\", \"exceptionClass\": \"\", \"trace\": \"\"}}, \"*\")"
      ],
      "text/plain": [
       "<IPython.core.display.Javascript object>"
      ]
     },
     "metadata": {},
     "output_type": "display_data"
    },
    {
     "data": {
      "text/markdown": [
       "<span style=\"color:#33cc33\">Correct</span>"
      ],
      "text/plain": [
       "Correct"
      ]
     },
     "metadata": {},
     "output_type": "display_data"
    }
   ],
   "source": [
    "# Define the model\n",
    "my_model_3 = XGBRegressor(n_estimators=1)\n",
    "\n",
    "# Fit the model\n",
    "my_model_3.fit(X_train, y_train) # Your code here\n",
    "\n",
    "# Get predictions\n",
    "predictions_3 = my_model_3.predict(X_valid)\n",
    "\n",
    "# Calculate MAE\n",
    "mae_3 = mean_absolute_error(predictions_3, y_valid)\n",
    "\n",
    "# Uncomment to print MAE\n",
    "print(\"Mean Absolute Error:\" , mae_3)\n",
    "\n",
    "# Check your answer\n",
    "step_3.check()"
   ]
  },
  {
   "cell_type": "code",
   "execution_count": 12,
   "id": "1a4bfd78",
   "metadata": {
    "execution": {
     "iopub.execute_input": "2022-06-30T14:19:28.588727Z",
     "iopub.status.busy": "2022-06-30T14:19:28.588259Z",
     "iopub.status.idle": "2022-06-30T14:19:28.591204Z",
     "shell.execute_reply": "2022-06-30T14:19:28.590642Z"
    },
    "papermill": {
     "duration": 0.01092,
     "end_time": "2022-06-30T14:19:28.592702",
     "exception": false,
     "start_time": "2022-06-30T14:19:28.581782",
     "status": "completed"
    },
    "tags": []
   },
   "outputs": [],
   "source": [
    "# Lines below will give you a hint or solution code\n",
    "#step_3.hint()\n",
    "#step_3.solution()"
   ]
  },
  {
   "cell_type": "markdown",
   "id": "ba67befd",
   "metadata": {
    "papermill": {
     "duration": 0.005314,
     "end_time": "2022-06-30T14:19:28.603566",
     "exception": false,
     "start_time": "2022-06-30T14:19:28.598252",
     "status": "completed"
    },
    "tags": []
   },
   "source": [
    "# Keep going\n",
    "\n",
    "Continue to learn about **[data leakage](https://www.kaggle.com/alexisbcook/data-leakage)**.  This is an important issue for a data scientist to understand, and it has the potential to ruin your models in subtle and dangerous ways!"
   ]
  },
  {
   "cell_type": "markdown",
   "id": "7b925535",
   "metadata": {
    "papermill": {
     "duration": 0.005932,
     "end_time": "2022-06-30T14:19:28.615010",
     "exception": false,
     "start_time": "2022-06-30T14:19:28.609078",
     "status": "completed"
    },
    "tags": []
   },
   "source": [
    "---\n",
    "\n",
    "\n",
    "\n",
    "\n",
    "*Have questions or comments? Visit the [course discussion forum](https://www.kaggle.com/learn/intermediate-machine-learning/discussion) to chat with other learners.*"
   ]
  }
 ],
 "metadata": {
  "kernelspec": {
   "display_name": "Python 3",
   "language": "python",
   "name": "python3"
  },
  "language_info": {
   "codemirror_mode": {
    "name": "ipython",
    "version": 3
   },
   "file_extension": ".py",
   "mimetype": "text/x-python",
   "name": "python",
   "nbconvert_exporter": "python",
   "pygments_lexer": "ipython3",
   "version": "3.7.12"
  },
  "papermill": {
   "default_parameters": {},
   "duration": 18.831144,
   "end_time": "2022-06-30T14:19:29.239332",
   "environment_variables": {},
   "exception": null,
   "input_path": "__notebook__.ipynb",
   "output_path": "__notebook__.ipynb",
   "parameters": {},
   "start_time": "2022-06-30T14:19:10.408188",
   "version": "2.3.4"
  }
 },
 "nbformat": 4,
 "nbformat_minor": 5
}
